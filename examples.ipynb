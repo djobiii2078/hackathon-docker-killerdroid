{
 "cells": [
  {
   "cell_type": "code",
   "execution_count": null,
   "id": "75b9a909-f895-424e-bde2-07349f63d326",
   "metadata": {},
   "outputs": [],
   "source": [
    "!echo $PATH"
   ]
  },
  {
   "cell_type": "code",
   "execution_count": null,
   "id": "ba51f6a1-7781-4cda-98a8-7c8db7c3deb6",
   "metadata": {},
   "outputs": [],
   "source": [
    "!ls -l /app"
   ]
  },
  {
   "cell_type": "code",
   "execution_count": null,
   "id": "c9cce113-5ada-4455-9361-8af04ee1ee50",
   "metadata": {},
   "outputs": [],
   "source": [
    "!java -jar /app/killerdroidpacker.jar --help"
   ]
  },
  {
   "cell_type": "code",
   "execution_count": null,
   "id": "88c1b8c3-8ebe-4abc-b986-723870abc556",
   "metadata": {},
   "outputs": [],
   "source": [
    "!and --help"
   ]
  },
  {
   "cell_type": "code",
   "execution_count": null,
   "id": "9080e4ca-0ca6-40da-8ed9-65680af84eb1",
   "metadata": {},
   "outputs": [],
   "source": [
    "ls -l /app/examples"
   ]
  },
  {
   "cell_type": "code",
   "execution_count": null,
   "id": "fa029a21-8c3b-471f-9c10-45bfd7f78c1d",
   "metadata": {},
   "outputs": [],
   "source": [
    "!and populate from-fs /app/examples/com.clarins.productlibrary.apk store"
   ]
  },
  {
   "cell_type": "code",
   "execution_count": null,
   "id": "97fffbc0-2135-46ea-a658-38de696ee08a",
   "metadata": {},
   "outputs": [],
   "source": [
    "!and populate from-fs /app/examples/koler-a-fe666e209e094968d3178ecf0cf817164c26d5501ed3cd9a80da786a4a3f3dc4.apk store"
   ]
  },
  {
   "cell_type": "code",
   "execution_count": null,
   "id": "ba5bf4f9-3f75-4f3a-8471-113a3b5a78d8",
   "metadata": {},
   "outputs": [],
   "source": [
    "# TODO this needs ANDROID_HOME == android sdk available (this can be big)\n",
    "!and packer --directory store --hosts  f11f862f6962bf000fae4b8da4dd9989b32d48852cca7d2 --guest fe666e209e094968d3178ecf0cf817164c26d5501ed3cd9 --android_home "
   ]
  },
  {
   "cell_type": "code",
   "execution_count": null,
   "id": "a3b09671-c1a2-4e7e-a4f0-e28ecda78c28",
   "metadata": {},
   "outputs": [],
   "source": []
  }
 ],
 "metadata": {
  "kernelspec": {
   "display_name": "andromak",
   "language": "python",
   "name": "andromak"
  },
  "language_info": {
   "codemirror_mode": {
    "name": "ipython",
    "version": 3
   },
   "file_extension": ".py",
   "mimetype": "text/x-python",
   "name": "python",
   "nbconvert_exporter": "python",
   "pygments_lexer": "ipython3",
   "version": "3.8.0"
  }
 },
 "nbformat": 4,
 "nbformat_minor": 5
}
